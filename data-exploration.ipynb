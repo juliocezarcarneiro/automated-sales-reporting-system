{
 "cells": [
  {
   "cell_type": "markdown",
   "id": "b5ef5961-077e-4abe-b252-58345371e446",
   "metadata": {},
   "source": [
    "# Create Sample Data"
   ]
  },
  {
   "cell_type": "code",
   "execution_count": 13,
   "id": "fa197771-2aea-4371-8b4e-e300f4c77642",
   "metadata": {},
   "outputs": [
    {
     "name": "stdout",
     "output_type": "stream",
     "text": [
      "Sample data generated successfully!\n"
     ]
    }
   ],
   "source": [
    "# Import dependencies\n",
    "import pandas as pd\n",
    "import numpy as np\n",
    "from datetime import datetime, timedelta\n",
    "import pandas as pd\n",
    "from sqlalchemy import create_engine\n",
    "\n",
    "# Generate 60 days of data\n",
    "dates = [datetime.now() - timedelta(days=x) for x in range(60)]\n",
    "regions = ['North', 'South', 'East', 'West']\n",
    "\n",
    "data = []\n",
    "for date in dates:\n",
    "    for region in regions:\n",
    "        total_orders = np.random.randint(50, 200)\n",
    "        fulfilled_orders = int(total_orders * np.random.uniform(0.7, 0.99))\n",
    "        avg_delivery_time = round(np.random.uniform(1.0, 3.5), 1)\n",
    "        returns = np.random.randint(0, 10)\n",
    "        inventory_level = np.random.randint(20, 100)\n",
    "        \n",
    "        data.append([\n",
    "            date.date(),\n",
    "            region,\n",
    "            total_orders,\n",
    "            fulfilled_orders,\n",
    "            avg_delivery_time,\n",
    "            returns,\n",
    "            inventory_level\n",
    "        ])\n",
    "\n",
    "df = pd.DataFrame(data, columns=[\n",
    "    'date', 'region', 'total_orders', 'fulfilled_orders', \n",
    "    'avg_delivery_time', 'returns', 'inventory_level'\n",
    "])\n",
    "\n",
    "# Save the data\n",
    "df.to_csv('data/operational_data.csv', index=False)\n",
    "print(\"Sample data generated successfully!\")"
   ]
  },
  {
   "cell_type": "markdown",
   "id": "546c0024-6111-462d-a9b7-5b9b12f0e63d",
   "metadata": {},
   "source": [
    "# Setup SQL Database"
   ]
  },
  {
   "cell_type": "code",
   "execution_count": 16,
   "id": "56e01851-8d80-401d-aac4-6329a3a60a07",
   "metadata": {},
   "outputs": [
    {
     "data": {
      "text/html": [
       "<div>\n",
       "<style scoped>\n",
       "    .dataframe tbody tr th:only-of-type {\n",
       "        vertical-align: middle;\n",
       "    }\n",
       "\n",
       "    .dataframe tbody tr th {\n",
       "        vertical-align: top;\n",
       "    }\n",
       "\n",
       "    .dataframe thead th {\n",
       "        text-align: right;\n",
       "    }\n",
       "</style>\n",
       "<table border=\"1\" class=\"dataframe\">\n",
       "  <thead>\n",
       "    <tr style=\"text-align: right;\">\n",
       "      <th></th>\n",
       "      <th>date</th>\n",
       "      <th>region</th>\n",
       "      <th>total_orders</th>\n",
       "      <th>fulfilled_orders</th>\n",
       "      <th>avg_delivery_time</th>\n",
       "      <th>returns</th>\n",
       "      <th>inventory_level</th>\n",
       "    </tr>\n",
       "  </thead>\n",
       "  <tbody>\n",
       "    <tr>\n",
       "      <th>0</th>\n",
       "      <td>2025-06-03</td>\n",
       "      <td>North</td>\n",
       "      <td>63</td>\n",
       "      <td>58</td>\n",
       "      <td>3.2</td>\n",
       "      <td>2</td>\n",
       "      <td>25</td>\n",
       "    </tr>\n",
       "    <tr>\n",
       "      <th>1</th>\n",
       "      <td>2025-06-03</td>\n",
       "      <td>South</td>\n",
       "      <td>164</td>\n",
       "      <td>140</td>\n",
       "      <td>1.9</td>\n",
       "      <td>6</td>\n",
       "      <td>51</td>\n",
       "    </tr>\n",
       "    <tr>\n",
       "      <th>2</th>\n",
       "      <td>2025-06-03</td>\n",
       "      <td>East</td>\n",
       "      <td>66</td>\n",
       "      <td>63</td>\n",
       "      <td>1.3</td>\n",
       "      <td>1</td>\n",
       "      <td>49</td>\n",
       "    </tr>\n",
       "    <tr>\n",
       "      <th>3</th>\n",
       "      <td>2025-06-03</td>\n",
       "      <td>West</td>\n",
       "      <td>127</td>\n",
       "      <td>122</td>\n",
       "      <td>3.0</td>\n",
       "      <td>5</td>\n",
       "      <td>78</td>\n",
       "    </tr>\n",
       "    <tr>\n",
       "      <th>4</th>\n",
       "      <td>2025-06-02</td>\n",
       "      <td>North</td>\n",
       "      <td>74</td>\n",
       "      <td>65</td>\n",
       "      <td>3.1</td>\n",
       "      <td>2</td>\n",
       "      <td>85</td>\n",
       "    </tr>\n",
       "  </tbody>\n",
       "</table>\n",
       "</div>"
      ],
      "text/plain": [
       "         date region  total_orders  fulfilled_orders  avg_delivery_time  \\\n",
       "0  2025-06-03  North            63                58                3.2   \n",
       "1  2025-06-03  South           164               140                1.9   \n",
       "2  2025-06-03   East            66                63                1.3   \n",
       "3  2025-06-03   West           127               122                3.0   \n",
       "4  2025-06-02  North            74                65                3.1   \n",
       "\n",
       "   returns  inventory_level  \n",
       "0        2               25  \n",
       "1        6               51  \n",
       "2        1               49  \n",
       "3        5               78  \n",
       "4        2               85  "
      ]
     },
     "execution_count": 16,
     "metadata": {},
     "output_type": "execute_result"
    }
   ],
   "source": [
    "# Read CSV\n",
    "df = pd.read_csv('data/operational_data.csv')\n",
    "df.head()"
   ]
  },
  {
   "cell_type": "code",
   "execution_count": 18,
   "id": "d943c686-132e-49e7-b93b-a82a45c6a860",
   "metadata": {},
   "outputs": [
    {
     "name": "stdout",
     "output_type": "stream",
     "text": [
      "Database created and data loaded successfully!\n"
     ]
    }
   ],
   "source": [
    "# Create SQLite database\n",
    "engine = create_engine('sqlite:///data/operations.db')\n",
    "\n",
    "# Load data into database\n",
    "df.to_sql('operations', engine, if_exists='replace', index=False)\n",
    "print(\"Database created and data loaded successfully!\")"
   ]
  },
  {
   "cell_type": "markdown",
   "id": "c16ecaa0-55e1-4edb-bec7-e081197311b3",
   "metadata": {},
   "source": [
    "# Core Python Scripts"
   ]
  },
  {
   "cell_type": "code",
   "execution_count": 21,
   "id": "77ebf04f-6c84-496f-8fc6-23030878b338",
   "metadata": {},
   "outputs": [],
   "source": [
    "# Extract, transform and load\n",
    "def extract_data():\n",
    "    \"\"\"Extract data from SQL database\"\"\"\n",
    "    engine = create_engine('sqlite:///data/operations.db')\n",
    "    query = \"\"\"\n",
    "    SELECT \n",
    "        date, region, \n",
    "        total_orders, fulfilled_orders,\n",
    "        avg_delivery_time, returns, inventory_level\n",
    "    FROM operations\n",
    "    WHERE date >= date('now', '-7 days')\n",
    "    \"\"\"\n",
    "    return pd.read_sql(query, engine)\n",
    "\n",
    "def transform_data(df):\n",
    "    \"\"\"Transform and analyze data\"\"\"\n",
    "    # Calculate metrics\n",
    "    df['fulfillment_rate'] = df['fulfilled_orders'] / df['total_orders']\n",
    "    df['return_rate'] = df['returns'] / df['total_orders']\n",
    "    \n",
    "    # Flag underperforming regions\n",
    "    df['is_underperforming'] = (df['fulfillment_rate'] < 0.85) | \\\n",
    "                               (df['avg_delivery_time'] > 2.5) | \\\n",
    "                               (df['return_rate'] > 0.1)\n",
    "    \n",
    "    return df\n",
    "\n",
    "def generate_report(df):\n",
    "    \"\"\"Generate HTML report\"\"\"\n",
    "    # Summary stats\n",
    "    summary = df.groupby('region').agg({\n",
    "        'total_orders': 'sum',\n",
    "        'fulfillment_rate': 'mean',\n",
    "        'avg_delivery_time': 'mean',\n",
    "        'return_rate': 'mean'\n",
    "    }).reset_index()\n",
    "    \n",
    "    # Create HTML\n",
    "    report = f\"\"\"\n",
    "    <h1>Daily Operations Report - {datetime.now().date()}</h1>\n",
    "    <h2>Regional Performance Summary</h2>\n",
    "    {summary.to_html()}\n",
    "    <h2>Underperforming Regions</h2>\n",
    "    {df[df['is_underperforming']].to_html()}\n",
    "    \"\"\"\n",
    "    \n",
    "    with open('reports/daily_report.html', 'w') as f:\n",
    "        f.write(report)\n",
    "    \n",
    "    return report\n",
    "\n",
    "if __name__ == \"__main__\":\n",
    "    # For testing\n",
    "    df = extract_data()\n",
    "    df = transform_data(df)\n",
    "    generate_report(df)"
   ]
  },
  {
   "cell_type": "code",
   "execution_count": null,
   "id": "79790448-3c6d-49cd-99fe-649abff6768b",
   "metadata": {},
   "outputs": [],
   "source": []
  }
 ],
 "metadata": {
  "kernelspec": {
   "display_name": "Python [conda env:base] *",
   "language": "python",
   "name": "conda-base-py"
  },
  "language_info": {
   "codemirror_mode": {
    "name": "ipython",
    "version": 3
   },
   "file_extension": ".py",
   "mimetype": "text/x-python",
   "name": "python",
   "nbconvert_exporter": "python",
   "pygments_lexer": "ipython3",
   "version": "3.12.2"
  }
 },
 "nbformat": 4,
 "nbformat_minor": 5
}
