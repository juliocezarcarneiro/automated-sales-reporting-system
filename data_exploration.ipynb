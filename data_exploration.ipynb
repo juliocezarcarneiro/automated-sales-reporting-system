{
 "cells": [
  {
   "cell_type": "markdown",
   "id": "b5ef5961-077e-4abe-b252-58345371e446",
   "metadata": {},
   "source": [
    "# Create Sample Data"
   ]
  },
  {
   "cell_type": "code",
   "execution_count": 21,
   "id": "fa197771-2aea-4371-8b4e-e300f4c77642",
   "metadata": {},
   "outputs": [
    {
     "name": "stdout",
     "output_type": "stream",
     "text": [
      "Sample data generated successfully!\n"
     ]
    }
   ],
   "source": [
    "# Import dependencies\n",
    "import pandas as pd\n",
    "import numpy as np\n",
    "from datetime import datetime, timedelta\n",
    "import pandas as pd\n",
    "from sqlalchemy import create_engine\n",
    "\n",
    "# Generate 60 days of data\n",
    "dates = [datetime.now() - timedelta(days=x) for x in range(60)]\n",
    "regions = ['North', 'South', 'East', 'West']\n",
    "\n",
    "data = []\n",
    "for date in dates:\n",
    "    for region in regions:\n",
    "        total_orders = np.random.randint(50, 200)\n",
    "        fulfilled_orders = int(total_orders * np.random.uniform(0.7, 0.99))\n",
    "        avg_delivery_time = round(np.random.uniform(1.0, 3.5), 1)\n",
    "        returns = np.random.randint(0, 10)\n",
    "        inventory_level = np.random.randint(20, 100)\n",
    "        \n",
    "        data.append([\n",
    "            date.date(),\n",
    "            region,\n",
    "            total_orders,\n",
    "            fulfilled_orders,\n",
    "            avg_delivery_time,\n",
    "            returns,\n",
    "            inventory_level\n",
    "        ])\n",
    "\n",
    "df = pd.DataFrame(data, columns=[\n",
    "    'date', 'region', 'total_orders', 'fulfilled_orders', \n",
    "    'avg_delivery_time', 'returns', 'inventory_level'\n",
    "])\n",
    "\n",
    "# Save the data\n",
    "df.to_csv('data/operational_data.csv', index=False)\n",
    "print(\"Sample data generated successfully!\")"
   ]
  },
  {
   "cell_type": "markdown",
   "id": "546c0024-6111-462d-a9b7-5b9b12f0e63d",
   "metadata": {},
   "source": [
    "# Setup SQL Database"
   ]
  },
  {
   "cell_type": "code",
   "execution_count": 24,
   "id": "56e01851-8d80-401d-aac4-6329a3a60a07",
   "metadata": {},
   "outputs": [
    {
     "data": {
      "text/html": [
       "<div>\n",
       "<style scoped>\n",
       "    .dataframe tbody tr th:only-of-type {\n",
       "        vertical-align: middle;\n",
       "    }\n",
       "\n",
       "    .dataframe tbody tr th {\n",
       "        vertical-align: top;\n",
       "    }\n",
       "\n",
       "    .dataframe thead th {\n",
       "        text-align: right;\n",
       "    }\n",
       "</style>\n",
       "<table border=\"1\" class=\"dataframe\">\n",
       "  <thead>\n",
       "    <tr style=\"text-align: right;\">\n",
       "      <th></th>\n",
       "      <th>date</th>\n",
       "      <th>region</th>\n",
       "      <th>total_orders</th>\n",
       "      <th>fulfilled_orders</th>\n",
       "      <th>avg_delivery_time</th>\n",
       "      <th>returns</th>\n",
       "      <th>inventory_level</th>\n",
       "    </tr>\n",
       "  </thead>\n",
       "  <tbody>\n",
       "    <tr>\n",
       "      <th>0</th>\n",
       "      <td>2025-06-03</td>\n",
       "      <td>North</td>\n",
       "      <td>65</td>\n",
       "      <td>49</td>\n",
       "      <td>2.7</td>\n",
       "      <td>6</td>\n",
       "      <td>99</td>\n",
       "    </tr>\n",
       "    <tr>\n",
       "      <th>1</th>\n",
       "      <td>2025-06-03</td>\n",
       "      <td>South</td>\n",
       "      <td>191</td>\n",
       "      <td>168</td>\n",
       "      <td>1.0</td>\n",
       "      <td>1</td>\n",
       "      <td>56</td>\n",
       "    </tr>\n",
       "    <tr>\n",
       "      <th>2</th>\n",
       "      <td>2025-06-03</td>\n",
       "      <td>East</td>\n",
       "      <td>93</td>\n",
       "      <td>71</td>\n",
       "      <td>2.3</td>\n",
       "      <td>3</td>\n",
       "      <td>25</td>\n",
       "    </tr>\n",
       "    <tr>\n",
       "      <th>3</th>\n",
       "      <td>2025-06-03</td>\n",
       "      <td>West</td>\n",
       "      <td>101</td>\n",
       "      <td>76</td>\n",
       "      <td>1.8</td>\n",
       "      <td>8</td>\n",
       "      <td>22</td>\n",
       "    </tr>\n",
       "    <tr>\n",
       "      <th>4</th>\n",
       "      <td>2025-06-02</td>\n",
       "      <td>North</td>\n",
       "      <td>153</td>\n",
       "      <td>112</td>\n",
       "      <td>2.2</td>\n",
       "      <td>8</td>\n",
       "      <td>45</td>\n",
       "    </tr>\n",
       "  </tbody>\n",
       "</table>\n",
       "</div>"
      ],
      "text/plain": [
       "         date region  total_orders  fulfilled_orders  avg_delivery_time  \\\n",
       "0  2025-06-03  North            65                49                2.7   \n",
       "1  2025-06-03  South           191               168                1.0   \n",
       "2  2025-06-03   East            93                71                2.3   \n",
       "3  2025-06-03   West           101                76                1.8   \n",
       "4  2025-06-02  North           153               112                2.2   \n",
       "\n",
       "   returns  inventory_level  \n",
       "0        6               99  \n",
       "1        1               56  \n",
       "2        3               25  \n",
       "3        8               22  \n",
       "4        8               45  "
      ]
     },
     "execution_count": 24,
     "metadata": {},
     "output_type": "execute_result"
    }
   ],
   "source": [
    "# Read CSV\n",
    "df = pd.read_csv('data/operational_data.csv')\n",
    "df.head()"
   ]
  },
  {
   "cell_type": "code",
   "execution_count": 26,
   "id": "d943c686-132e-49e7-b93b-a82a45c6a860",
   "metadata": {},
   "outputs": [
    {
     "name": "stdout",
     "output_type": "stream",
     "text": [
      "Database created and data loaded successfully!\n"
     ]
    }
   ],
   "source": [
    "# Create SQLite database\n",
    "engine = create_engine('sqlite:///data/operations.db')\n",
    "\n",
    "# Load data into database\n",
    "df.to_sql('operations', engine, if_exists='replace', index=False)\n",
    "print(\"Database created and data loaded successfully!\")"
   ]
  },
  {
   "cell_type": "markdown",
   "id": "c16ecaa0-55e1-4edb-bec7-e081197311b3",
   "metadata": {},
   "source": [
    "# Core Python Scripts"
   ]
  },
  {
   "cell_type": "code",
   "execution_count": 33,
   "id": "77ebf04f-6c84-496f-8fc6-23030878b338",
   "metadata": {},
   "outputs": [],
   "source": [
    "# Extract, transform and load\n",
    "def extract_data():\n",
    "    \"\"\"Extract data from SQL database\"\"\"\n",
    "    engine = create_engine('sqlite:///data/operations.db')\n",
    "    query = \"\"\"\n",
    "    SELECT \n",
    "        date, region, \n",
    "        total_orders, fulfilled_orders,\n",
    "        avg_delivery_time, returns, inventory_level\n",
    "    FROM operations\n",
    "    WHERE date >= date('now', '-7 days')\n",
    "    \"\"\"\n",
    "    return pd.read_sql(query, engine)\n",
    "\n",
    "def transform_data(df):\n",
    "    \"\"\"Transform and analyze data\"\"\"\n",
    "    # Calculate metrics\n",
    "    df['fulfillment_rate'] = df['fulfilled_orders'] / df['total_orders']\n",
    "    df['return_rate'] = df['returns'] / df['total_orders']\n",
    "    \n",
    "    # Flag underperforming regions\n",
    "    df['is_underperforming'] = (df['fulfillment_rate'] < 0.85) | \\\n",
    "                               (df['avg_delivery_time'] > 2.5) | \\\n",
    "                               (df['return_rate'] > 0.1)\n",
    "    \n",
    "    return df\n",
    "\n",
    "def generate_report(df):\n",
    "    \"\"\"Generate HTML report\"\"\"\n",
    "    # Summary stats\n",
    "    summary = df.groupby('region').agg({\n",
    "        'total_orders': 'sum',\n",
    "        'fulfillment_rate': 'mean',\n",
    "        'avg_delivery_time': 'mean',\n",
    "        'return_rate': 'mean'\n",
    "    }).reset_index()\n",
    "    \n",
    "    # Create HTML\n",
    "    report = f\"\"\"\n",
    "    <h1>Daily Operations Report - {datetime.now().date()}</h1>\n",
    "    <h2>Regional Performance Summary</h2>\n",
    "    {summary.to_html()}\n",
    "    <h2>Underperforming Regions</h2>\n",
    "    {df[df['is_underperforming']].to_html()}\n",
    "    \"\"\"\n",
    "    \n",
    "    with open('reports/daily_report.html', 'w') as f:\n",
    "        f.write(report)\n",
    "    \n",
    "    return report\n",
    "\n",
    "if __name__ == \"__main__\":\n",
    "    # For testing\n",
    "    df = extract_data()\n",
    "    df = transform_data(df)\n",
    "    generate_report(df)"
   ]
  },
  {
   "cell_type": "code",
   "execution_count": 35,
   "id": "16a383bf-059f-41bb-a1b2-28972e9b90e1",
   "metadata": {},
   "outputs": [],
   "source": [
    "# data_validation.py\n",
    "def validate_data(df):\n",
    "    \"\"\"Perform data quality checks\"\"\"\n",
    "    errors = []\n",
    "    \n",
    "    # Check for null values\n",
    "    if df.isnull().any().any():\n",
    "        errors.append(\"Null values detected in the data\")\n",
    "    \n",
    "    # Check for reasonable ranges\n",
    "    if (df['total_orders'] < 0).any():\n",
    "        errors.append(\"Negative values found in total_orders\")\n",
    "    \n",
    "    if (df['avg_delivery_time'] < 0).any():\n",
    "        errors.append(\"Negative delivery times found\")\n",
    "    \n",
    "    if (df['fulfillment_rate'] > 1).any():\n",
    "        errors.append(\"Fulfillment rate exceeds 100%\")\n",
    "    \n",
    "    return errors"
   ]
  },
  {
   "cell_type": "markdown",
   "id": "d60d1fd2-ddc2-48aa-b9a1-50f4ecda8c04",
   "metadata": {},
   "source": [
    "# Set Up Airflow"
   ]
  },
  {
   "cell_type": "code",
   "execution_count": null,
   "id": "e550d808-9a8f-4dbd-a442-26c1e13dd671",
   "metadata": {},
   "outputs": [],
   "source": []
  }
 ],
 "metadata": {
  "kernelspec": {
   "display_name": "Python [conda env:base] *",
   "language": "python",
   "name": "conda-base-py"
  },
  "language_info": {
   "codemirror_mode": {
    "name": "ipython",
    "version": 3
   },
   "file_extension": ".py",
   "mimetype": "text/x-python",
   "name": "python",
   "nbconvert_exporter": "python",
   "pygments_lexer": "ipython3",
   "version": "3.12.2"
  }
 },
 "nbformat": 4,
 "nbformat_minor": 5
}
