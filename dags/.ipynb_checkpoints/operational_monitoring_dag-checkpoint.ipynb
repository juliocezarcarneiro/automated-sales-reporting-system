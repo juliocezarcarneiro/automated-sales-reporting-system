{
 "cells": [
  {
   "cell_type": "code",
   "execution_count": 1,
   "id": "cf190fad-57a6-4dfe-b7ea-62493469e236",
   "metadata": {},
   "outputs": [
    {
     "ename": "ModuleNotFoundError",
     "evalue": "No module named 'airflow'",
     "output_type": "error",
     "traceback": [
      "\u001b[0;31m---------------------------------------------------------------------------\u001b[0m",
      "\u001b[0;31mModuleNotFoundError\u001b[0m                       Traceback (most recent call last)",
      "Cell \u001b[0;32mIn[1], line 2\u001b[0m\n\u001b[1;32m      1\u001b[0m \u001b[38;5;28;01mfrom\u001b[39;00m \u001b[38;5;21;01mdatetime\u001b[39;00m \u001b[38;5;28;01mimport\u001b[39;00m datetime, timedelta\n\u001b[0;32m----> 2\u001b[0m \u001b[38;5;28;01mfrom\u001b[39;00m \u001b[38;5;21;01mairflow\u001b[39;00m \u001b[38;5;28;01mimport\u001b[39;00m DAG\n\u001b[1;32m      3\u001b[0m \u001b[38;5;28;01mfrom\u001b[39;00m \u001b[38;5;21;01mairflow\u001b[39;00m\u001b[38;5;21;01m.\u001b[39;00m\u001b[38;5;21;01moperators\u001b[39;00m\u001b[38;5;21;01m.\u001b[39;00m\u001b[38;5;21;01mpython\u001b[39;00m \u001b[38;5;28;01mimport\u001b[39;00m PythonOperator\n\u001b[1;32m      4\u001b[0m \u001b[38;5;28;01mfrom\u001b[39;00m \u001b[38;5;21;01mairflow\u001b[39;00m\u001b[38;5;21;01m.\u001b[39;00m\u001b[38;5;21;01mproviders\u001b[39;00m\u001b[38;5;21;01m.\u001b[39;00m\u001b[38;5;21;01mpostgres\u001b[39;00m\u001b[38;5;21;01m.\u001b[39;00m\u001b[38;5;21;01mhooks\u001b[39;00m\u001b[38;5;21;01m.\u001b[39;00m\u001b[38;5;21;01mpostgres\u001b[39;00m \u001b[38;5;28;01mimport\u001b[39;00m PostgresHook\n",
      "\u001b[0;31mModuleNotFoundError\u001b[0m: No module named 'airflow'"
     ]
    }
   ],
   "source": [
    "from datetime import datetime, timedelta\n",
    "from airflow import DAG\n",
    "from airflow.operators.python import PythonOperator\n",
    "from airflow.providers.postgres.hooks.postgres import PostgresHook\n",
    "from airflow.utils.dates import days_ago\n",
    "import pandas as pd\n",
    "import os\n",
    "\n",
    "def extract():\n",
    "    hook = PostgresHook(postgres_conn_id='operations_db')\n",
    "    df = hook.get_pandas_df(\"\"\"\n",
    "        SELECT date, region, total_orders, fulfilled_orders \n",
    "        FROM operations \n",
    "        WHERE date >= CURRENT_DATE - INTERVAL '7 days'\n",
    "    \"\"\")\n",
    "    return df\n",
    "\n",
    "def transform(**context):\n",
    "    ti = context['ti']\n",
    "    df = ti.xcom_pull(task_ids='extract')\n",
    "    \n",
    "    df['fulfillment_rate'] = df['fulfilled_orders'] / df['total_orders']\n",
    "    df['is_underperforming'] = (df['fulfillment_rate'] < 0.85)\n",
    "    return df\n",
    "\n",
    "def generate_report(**context):\n",
    "    os.makedirs('reports', exist_ok=True)\n",
    "    ti = context['ti']\n",
    "    df = ti.xcom_pull(task_ids='transform')\n",
    "    \n",
    "    report_path = f\"reports/report_{datetime.now().date()}.html\"\n",
    "    df.to_html(report_path)\n",
    "    return report_path\n",
    "\n",
    "default_args = {\n",
    "    'owner': 'airflow',\n",
    "    'retries': 2,\n",
    "    'retry_delay': timedelta(minutes=5)\n",
    "}\n",
    "\n",
    "with DAG(\n",
    "    'ops_monitoring',\n",
    "    default_args=default_args,\n",
    "    schedule_interval='@daily',\n",
    "    start_date=days_ago(1),\n",
    "    catchup=False\n",
    ") as dag:\n",
    "    \n",
    "    extract_task = PythonOperator(\n",
    "        task_id='extract',\n",
    "        python_callable=extract\n",
    "    )\n",
    "    \n",
    "    transform_task = PythonOperator(\n",
    "        task_id='transform',\n",
    "        python_callable=transform,\n",
    "        provide_context=True\n",
    "    )\n",
    "    \n",
    "    report_task = PythonOperator(\n",
    "        task_id='generate_report',\n",
    "        python_callable=generate_report,\n",
    "        provide_context=True\n",
    "    )\n",
    "    \n",
    "    extract_task >> transform_task >> report_task"
   ]
  },
  {
   "cell_type": "code",
   "execution_count": null,
   "id": "425dcafe-336b-45ca-8abd-375e112a012e",
   "metadata": {},
   "outputs": [],
   "source": []
  }
 ],
 "metadata": {
  "kernelspec": {
   "display_name": "Python [conda env:base] *",
   "language": "python",
   "name": "conda-base-py"
  },
  "language_info": {
   "codemirror_mode": {
    "name": "ipython",
    "version": 3
   },
   "file_extension": ".py",
   "mimetype": "text/x-python",
   "name": "python",
   "nbconvert_exporter": "python",
   "pygments_lexer": "ipython3",
   "version": "3.12.2"
  }
 },
 "nbformat": 4,
 "nbformat_minor": 5
}
