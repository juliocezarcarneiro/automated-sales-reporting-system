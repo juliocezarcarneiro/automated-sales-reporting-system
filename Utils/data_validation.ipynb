{
 "cells": [
  {
   "cell_type": "code",
   "execution_count": null,
   "id": "2971cb30-a122-4d48-9860-0dd9cfb4840e",
   "metadata": {},
   "outputs": [],
   "source": [
    "def validate_data(df):\n",
    "    \"\"\"Perform comprehensive data quality checks\"\"\"\n",
    "    errors = []\n",
    "    \n",
    "    # 1. Null checks\n",
    "    null_columns = df.columns[df.isnull().any()]\n",
    "    if not null_columns.empty:\n",
    "        errors.append(f\"Null values found in columns: {list(null_columns)}\")\n",
    "    \n",
    "    # 2. Value range checks\n",
    "    if (df['total_orders'] < 0).any():\n",
    "        errors.append(\"Negative values found in total_orders\")\n",
    "    \n",
    "    if (df['avg_delivery_time'] < 0).any():\n",
    "        errors.append(\"Negative delivery times found\")\n",
    "    \n",
    "    if (df['fulfillment_rate'] > 1).any():\n",
    "        errors.append(\"Fulfillment rate exceeds 100%\")\n",
    "    \n",
    "    # 3. Consistency checks\n",
    "    if (df['fulfilled_orders'] > df['total_orders']).any():\n",
    "        errors.append(\"Fulfilled orders exceed total orders\")\n",
    "    \n",
    "    # 4. Uniqueness checks (if applicable)\n",
    "    if df.duplicated(subset=['date', 'region']).any():\n",
    "        errors.append(\"Duplicate records for date-region combinations\")\n",
    "    \n",
    "    return errors"
   ]
  }
 ],
 "metadata": {
  "kernelspec": {
   "display_name": "Python [conda env:base] *",
   "language": "python",
   "name": "conda-base-py"
  },
  "language_info": {
   "codemirror_mode": {
    "name": "ipython",
    "version": 3
   },
   "file_extension": ".py",
   "mimetype": "text/x-python",
   "name": "python",
   "nbconvert_exporter": "python",
   "pygments_lexer": "ipython3",
   "version": "3.12.2"
  }
 },
 "nbformat": 4,
 "nbformat_minor": 5
}
