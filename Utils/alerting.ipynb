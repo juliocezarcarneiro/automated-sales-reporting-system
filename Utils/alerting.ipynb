{
 "cells": [
  {
   "cell_type": "code",
   "execution_count": 2,
   "id": "e05032af-a68f-470e-9382-55cdf2b9b5a7",
   "metadata": {},
   "outputs": [],
   "source": [
    "# alerting.py\n",
    "import smtplib\n",
    "from email.mime.text import MIMEText\n",
    "\n",
    "def send_email_alert(subject, body, to_email):\n",
    "    \"\"\"Send email alert (simplified example)\"\"\"\n",
    "    # Configure these with your email settings\n",
    "    from_email = \"your_email@example.com\"\n",
    "    smtp_server = \"smtp.example.com\"\n",
    "    smtp_port = 587\n",
    "    username = \"your_username\"\n",
    "    password = \"your_password\"\n",
    "    \n",
    "    msg = MIMEText(body, 'html')\n",
    "    msg['Subject'] = subject\n",
    "    msg['From'] = from_email\n",
    "    msg['To'] = to_email\n",
    "    \n",
    "    try:\n",
    "        with smtplib.SMTP(smtp_server, smtp_port) as server:\n",
    "            server.starttls()\n",
    "            server.login(username, password)\n",
    "            server.send_message(msg)\n",
    "        print(\"Alert email sent successfully\")\n",
    "    except Exception as e:\n",
    "        print(f\"Failed to send email: {e}\")"
   ]
  },
  {
   "cell_type": "code",
   "execution_count": null,
   "id": "5d351f6c-8696-40d9-a430-50d3705cddd2",
   "metadata": {},
   "outputs": [],
   "source": []
  }
 ],
 "metadata": {
  "kernelspec": {
   "display_name": "Python [conda env:base] *",
   "language": "python",
   "name": "conda-base-py"
  },
  "language_info": {
   "codemirror_mode": {
    "name": "ipython",
    "version": 3
   },
   "file_extension": ".py",
   "mimetype": "text/x-python",
   "name": "python",
   "nbconvert_exporter": "python",
   "pygments_lexer": "ipython3",
   "version": "3.12.2"
  }
 },
 "nbformat": 4,
 "nbformat_minor": 5
}
